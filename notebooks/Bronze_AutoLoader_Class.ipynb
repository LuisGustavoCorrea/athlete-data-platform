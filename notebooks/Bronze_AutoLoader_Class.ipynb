{
 "cells": [
  {
   "cell_type": "code",
   "execution_count": 0,
   "metadata": {
    "application/vnd.databricks.v1+cell": {
     "cellMetadata": {},
     "inputWidgets": {},
     "nuid": "1cfe2e44-4133-47b6-b76f-fd46177df3d8",
     "showTitle": false,
     "tableResultSettingsMap": {},
     "title": ""
    }
   },
   "outputs": [],
   "source": [
    "from pyspark.sql.functions import current_timestamp\n",
    "from pyspark.sql.functions import col\n",
    "\n",
    "class BronzeLoader:\n",
    "    def __init__(self, input_path, checkpoint_path, format_file):\n",
    "        self.input_path = input_path\n",
    "        self.checkpoint_path = checkpoint_path\n",
    "        self.format_file = format_file\n",
    "\n",
    "    def read_autoloader(self, schema=None):\n",
    "        df = (spark.readStream\n",
    "              .format(\"cloudFiles\")\n",
    "              .option(\"cloudFiles.format\", self.format_file)\n",
    "              .option(\"cloudFiles.inferColumnTypes\", \"true\")\n",
    "              .option(\"cloudFiles.schemaEvolutionMode\", \"addNewColumns\")\n",
    "              .option(\"cloudFiles.schemaLocation\", self.checkpoint_path)\n",
    "              .load(self.input_path)\n",
    "             )\n",
    "        return df if not schema else df.selectExpr(*schema)\n",
    "\n",
    "    def get_ingestion_time_column(self, df):\n",
    "        return (df\n",
    "                .withColumn(\"ingestion_timestamp\", current_timestamp())\n",
    "               )\n",
    "    \n",
    "    def get_athlete_id_column(self, df):\n",
    "        return (df\n",
    "                .withColumn(\"athlete_id\", col(\"athlete.id\"))\n",
    "               )\n",
    "            \n",
    "    def write_to_bronze(self, df, output_path):\n",
    "        return (df.writeStream\n",
    "              .format(\"delta\")  # <-- aqui muda\n",
    "              .option(\"checkpointLocation\", self.checkpoint_path)\n",
    "              .option(\"mergeSchema\", \"true\")\n",
    "              .outputMode(\"append\")\n",
    "              .trigger(availableNow=True)\n",
    "              .start(output_path)\n",
    "           )\n"
   ]
  }
 ],
 "metadata": {
  "application/vnd.databricks.v1+notebook": {
   "computePreferences": null,
   "dashboards": [],
   "environmentMetadata": {
    "base_environment": "",
    "environment_version": "3"
   },
   "inputWidgetPreferences": null,
   "language": "python",
   "notebookMetadata": {
    "pythonIndentUnit": 4
   },
   "notebookName": "Bronze_AutoLoader_Class",
   "widgets": {}
  },
  "language_info": {
   "name": "python"
  }
 },
 "nbformat": 4,
 "nbformat_minor": 0
}
