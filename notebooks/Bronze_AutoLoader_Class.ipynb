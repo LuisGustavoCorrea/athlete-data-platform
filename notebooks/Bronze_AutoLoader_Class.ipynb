{
 "cells": [
  {
   "cell_type": "code",
   "execution_count": 0,
   "metadata": {
    "application/vnd.databricks.v1+cell": {
     "cellMetadata": {
      "byteLimit": 2048000,
      "rowLimit": 10000
     },
     "inputWidgets": {},
     "nuid": "5986be8b-9e59-48d1-a440-bf7a25d97b91",
     "showTitle": false,
     "tableResultSettingsMap": {},
     "title": ""
    }
   },
   "outputs": [],
   "source": [
    "from pyspark.sql.functions import current_timestamp\n",
    "from pyspark.sql.functions import col"
   ]
  },
  {
   "cell_type": "code",
   "execution_count": 0,
   "metadata": {
    "application/vnd.databricks.v1+cell": {
     "cellMetadata": {
      "byteLimit": 2048000,
      "rowLimit": 10000
     },
     "inputWidgets": {},
     "nuid": "569cf8dc-1479-4deb-b02c-87336479ef4a",
     "showTitle": false,
     "tableResultSettingsMap": {},
     "title": ""
    }
   },
   "outputs": [],
   "source": [
    "#dbutils.fs.rm(\"abfss://bronze@adlsathlete.dfs.core.windows.net/strava/activities/checkpoints\", recurse=True)\n"
   ]
  },
  {
   "cell_type": "code",
   "execution_count": 0,
   "metadata": {
    "application/vnd.databricks.v1+cell": {
     "cellMetadata": {
      "byteLimit": 2048000,
      "rowLimit": 10000
     },
     "inputWidgets": {},
     "nuid": "477f702c-c2e9-4bb9-8ea0-9d2ae84022ec",
     "showTitle": false,
     "tableResultSettingsMap": {},
     "title": ""
    }
   },
   "outputs": [],
   "source": [
    "\n",
    "\n",
    "class BronzeLoader:\n",
    "    def __init__(self, input_path, checkpoint_path, format_file):\n",
    "        self.input_path = input_path\n",
    "        self.checkpoint_path = checkpoint_path\n",
    "        self.format_file = format_file\n",
    "\n",
    "    def read_autoloader(self, schema=None):\n",
    "        df = (spark.readStream\n",
    "              .format(\"cloudFiles\")\n",
    "              .option(\"cloudFiles.format\", self.format_file)\n",
    "              .option(\"cloudFiles.inferColumnTypes\", \"true\")\n",
    "              .option(\"cloudFiles.schemaEvolutionMode\", \"addNewColumns\")\n",
    "              .option(\"cloudFiles.schemaLocation\", self.checkpoint_path)\n",
    "              .load(self.input_path)\n",
    "             )\n",
    "        return df if not schema else df.selectExpr(*schema)\n",
    "\n",
    "    def standardize_columns(self, df):\n",
    "        return (df\n",
    "                .withColumn(\"athlete_id\", col(\"athlete.id\"))\n",
    "                .withColumn(\"ingestion_timestamp\", current_timestamp())\n",
    "               )\n",
    "    \n",
    "    def write_to_bronze(self, df, output_path):\n",
    "        return (df.writeStream\n",
    "              .format(\"delta\")  # <-- aqui muda\n",
    "              .option(\"checkpointLocation\", self.checkpoint_path)\n",
    "              .option(\"mergeSchema\", \"true\")\n",
    "              .outputMode(\"append\")\n",
    "              .trigger(availableNow=True)\n",
    "              .start(output_path)\n",
    "           )\n"
   ]
  },
  {
   "cell_type": "code",
   "execution_count": 0,
   "metadata": {
    "application/vnd.databricks.v1+cell": {
     "cellMetadata": {
      "byteLimit": 2048000,
      "rowLimit": 10000
     },
     "inputWidgets": {},
     "nuid": "edc46681-71bc-4ee5-9ab1-c748481791bb",
     "showTitle": false,
     "tableResultSettingsMap": {},
     "title": ""
    }
   },
   "outputs": [],
   "source": [
    "bronze = BronzeLoader(\n",
    "    input_path=\"abfss://raw@adlsathlete.dfs.core.windows.net/strava/activities/\",\n",
    "    checkpoint_path=\"abfss://bronze@adlsathlete.dfs.core.windows.net/strava/activities/checkpoints/\",\n",
    "    format_file=\"json\"\n",
    "    \n",
    ")\n",
    "\n",
    "df = bronze.read_autoloader()\n",
    "df = bronze.standardize_columns(df)\n",
    "df.display()\n",
    "bronze.write_to_bronze(\n",
    "    df,\n",
    "    output_path=\"abfss://bronze@adlsathlete.dfs.core.windows.net/strava/activities/\"\n",
    ")\n"
   ]
  },
  {
   "cell_type": "code",
   "execution_count": 0,
   "metadata": {
    "application/vnd.databricks.v1+cell": {
     "cellMetadata": {
      "byteLimit": 2048000,
      "implicitDf": true,
      "rowLimit": 10000
     },
     "inputWidgets": {},
     "nuid": "7d489ddd-1b8a-4b63-9f76-7f334b9da599",
     "showTitle": false,
     "tableResultSettingsMap": {},
     "title": ""
    }
   },
   "outputs": [],
   "source": [
    "%sql\n",
    "CREATE TABLE IF NOT EXISTS `uc_athlete_data`.bronze.strava_activities\n",
    "USING DELTA \n",
    "COMMENT \"Tabela com atividades dos atletas no Strava\"\n",
    "LOCATION 'abfss://bronze@adlsathlete.dfs.core.windows.net/strava/activities/'"
   ]
  },
  {
   "cell_type": "code",
   "execution_count": 0,
   "metadata": {
    "application/vnd.databricks.v1+cell": {
     "cellMetadata": {
      "byteLimit": 2048000,
      "implicitDf": true,
      "rowLimit": 10000
     },
     "inputWidgets": {},
     "nuid": "3f3027d4-8421-46c3-8b7f-c5abcbeed8bf",
     "showTitle": false,
     "tableResultSettingsMap": {},
     "title": ""
    }
   },
   "outputs": [],
   "source": [
    "%sql\n",
    "select * from `uc_athlete_data`.bronze.strava_activities"
   ]
  }
 ],
 "metadata": {
  "application/vnd.databricks.v1+notebook": {
   "computePreferences": null,
   "dashboards": [],
   "environmentMetadata": {
    "base_environment": "",
    "environment_version": "2"
   },
   "inputWidgetPreferences": null,
   "language": "python",
   "notebookMetadata": {
    "mostRecentlyExecutedCommandWithImplicitDF": {
     "commandId": 5779846600276278,
     "dataframes": [
      "_sqldf"
     ]
    },
    "pythonIndentUnit": 4
   },
   "notebookName": "Bronze_AutoLoader_Class",
   "widgets": {}
  },
  "language_info": {
   "name": "python"
  }
 },
 "nbformat": 4,
 "nbformat_minor": 0
}
