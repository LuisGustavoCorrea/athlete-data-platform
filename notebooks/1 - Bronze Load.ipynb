{
 "cells": [
  {
   "cell_type": "code",
   "execution_count": 0,
   "metadata": {
    "application/vnd.databricks.v1+cell": {
     "cellMetadata": {
      "byteLimit": 2048000,
      "rowLimit": 10000
     },
     "inputWidgets": {},
     "nuid": "3942553d-3bdb-4ea8-b538-038aca7e08d7",
     "showTitle": false,
     "tableResultSettingsMap": {},
     "title": ""
    }
   },
   "outputs": [],
   "source": [
    "from py_auto_loader_class import BronzeLoader\n",
    "\n",
    "dbutils.widgets.text(\"1_input_path\",\"\")\n",
    "dbutils.widgets.text(\"2_output_path\",\"\")\n",
    "dbutils.widgets.text(\"3_format_file\",\"\")\n",
    "dbutils.widgets.text(\"4_checkpoint_path\",\"\")\n",
    "\n",
    "input_path = dbutils.widgets.get(\"1_input_path\")\n",
    "print(f\"1_input_path: {input_path}\")\n",
    "\n",
    "output_path = dbutils.widgets.get(\"2_output_path\")\n",
    "print(f\"2_output_path: {output_path}\")\n",
    "\n",
    "format_file = dbutils.widgets.get(\"3_format_file\")\n",
    "print(f\"3_format_file: {format_file}\")\n",
    "\n",
    "checkpoint_path = dbutils.widgets.get(\"4_checkpoint_path\")\n",
    "print(f\"4_checkpoint_path: {checkpoint_path}\")\n"
   ]
  },
  {
   "cell_type": "code",
   "execution_count": 0,
   "metadata": {
    "application/vnd.databricks.v1+cell": {
     "cellMetadata": {
      "byteLimit": 2048000,
      "rowLimit": 10000
     },
     "inputWidgets": {},
     "nuid": "8c61b33b-b56d-4116-9f9e-96cac0dee2dc",
     "showTitle": false,
     "tableResultSettingsMap": {},
     "title": ""
    }
   },
   "outputs": [],
   "source": [
    "bronze = BronzeLoader(\n",
    "    input_path=input_path,\n",
    "    checkpoint_path=checkpoint_path,\n",
    "    format_file=format_file\n",
    "    \n",
    ")\n",
    "\n",
    "df = bronze.read_autoloader()\n",
    "df = bronze.get_ingestion_time_column(df)\n",
    "\n",
    "if \"strava/athlete/\" not in input_path:\n",
    "    df = bronze.get_athlete_id_column(df)\n",
    "\n",
    "\n",
    "bronze.write_to_bronze(\n",
    "    df,\n",
    "    output_path=output_path\n",
    ")"
   ]
  }
 ],
 "metadata": {
  "application/vnd.databricks.v1+notebook": {
   "computePreferences": {
    "hardware": {
     "accelerator": null,
     "gpuPoolId": null,
     "memory": null
    }
   },
   "dashboards": [],
   "environmentMetadata": {
    "base_environment": "",
    "environment_version": "2"
   },
   "inputWidgetPreferences": null,
   "language": "python",
   "notebookMetadata": {
    "mostRecentlyExecutedCommandWithImplicitDF": {
     "commandId": 5847632613058860,
     "dataframes": [
      "_sqldf"
     ]
    },
    "pythonIndentUnit": 4
   },
   "notebookName": "1 - Bronze Load",
   "widgets": {
    "1_input_path": {
     "currentValue": "",
     "nuid": "735b6ce8-ea21-4599-9e6f-b86059b3aacd",
     "typedWidgetInfo": {
      "autoCreated": false,
      "defaultValue": "",
      "label": null,
      "name": "1_input_path",
      "options": {
       "widgetDisplayType": "Text",
       "validationRegex": null
      },
      "parameterDataType": "String"
     },
     "widgetInfo": {
      "widgetType": "text",
      "defaultValue": "",
      "label": null,
      "name": "1_input_path",
      "options": {
       "widgetType": "text",
       "autoCreated": null,
       "validationRegex": null
      }
     }
    },
    "2_output_path": {
     "currentValue": "",
     "nuid": "162dd909-5253-4abf-bb1e-b94d68705dc3",
     "typedWidgetInfo": {
      "autoCreated": false,
      "defaultValue": "",
      "label": null,
      "name": "2_output_path",
      "options": {
       "widgetDisplayType": "Text",
       "validationRegex": null
      },
      "parameterDataType": "String"
     },
     "widgetInfo": {
      "widgetType": "text",
      "defaultValue": "",
      "label": null,
      "name": "2_output_path",
      "options": {
       "widgetType": "text",
       "autoCreated": null,
       "validationRegex": null
      }
     }
    },
    "3_format_file": {
     "currentValue": "json",
     "nuid": "aff601bc-9835-4149-871b-91fa62553139",
     "typedWidgetInfo": {
      "autoCreated": false,
      "defaultValue": "",
      "label": null,
      "name": "3_format_file",
      "options": {
       "widgetDisplayType": "Text",
       "validationRegex": null
      },
      "parameterDataType": "String"
     },
     "widgetInfo": {
      "widgetType": "text",
      "defaultValue": "",
      "label": null,
      "name": "3_format_file",
      "options": {
       "widgetType": "text",
       "autoCreated": null,
       "validationRegex": null
      }
     }
    },
    "4_checkpoint_path": {
     "currentValue": "",
     "nuid": "55a08567-89d6-4362-a8b2-6df9e7843295",
     "typedWidgetInfo": {
      "autoCreated": false,
      "defaultValue": "",
      "label": null,
      "name": "4_checkpoint_path",
      "options": {
       "widgetDisplayType": "Text",
       "validationRegex": null
      },
      "parameterDataType": "String"
     },
     "widgetInfo": {
      "widgetType": "text",
      "defaultValue": "",
      "label": null,
      "name": "4_checkpoint_path",
      "options": {
       "widgetType": "text",
       "autoCreated": null,
       "validationRegex": null
      }
     }
    }
   }
  },
  "language_info": {
   "name": "python"
  }
 },
 "nbformat": 4,
 "nbformat_minor": 0
}
