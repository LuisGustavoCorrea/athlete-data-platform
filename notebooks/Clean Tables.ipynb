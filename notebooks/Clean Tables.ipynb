{
 "cells": [
  {
   "cell_type": "code",
   "execution_count": 0,
   "metadata": {
    "application/vnd.databricks.v1+cell": {
     "cellMetadata": {
      "byteLimit": 2048000,
      "implicitDf": true,
      "rowLimit": 10000
     },
     "inputWidgets": {},
     "nuid": "d3842af9-c904-4a61-90da-f200d0450543",
     "showTitle": false,
     "tableResultSettingsMap": {},
     "title": ""
    }
   },
   "outputs": [],
   "source": [
    "%sql\n",
    "TRUNCATE TABLE uc_athlete_data.bronze.strava_sub_activity;\n",
    "TRUNCATE TABLE uc_athlete_data.bronze.strava_activities;\n",
    "TRUNCATE TABLE uc_athlete_data.bronze.strava_athlete;\n",
    "\n",
    "TRUNCATE TABLE uc_athlete_data.silver.strava_sub_activity;\n",
    "TRUNCATE TABLE uc_athlete_data.silver.strava_activities;\n",
    "#TRUNCATE TABLE uc_athlete_data.silver.strava_athlete\n"
   ]
  },
  {
   "cell_type": "code",
   "execution_count": 0,
   "metadata": {
    "application/vnd.databricks.v1+cell": {
     "cellMetadata": {
      "byteLimit": 2048000,
      "implicitDf": true,
      "rowLimit": 10000
     },
     "inputWidgets": {},
     "nuid": "e532960f-5147-4a10-9be3-5ffa9fd863b6",
     "showTitle": false,
     "tableResultSettingsMap": {},
     "title": ""
    }
   },
   "outputs": [],
   "source": [
    "%sql\n",
    "select count(*) from `uc_athlete_data`.bronze.strava_activities"
   ]
  },
  {
   "cell_type": "code",
   "execution_count": 0,
   "metadata": {
    "application/vnd.databricks.v1+cell": {
     "cellMetadata": {
      "byteLimit": 2048000,
      "implicitDf": true,
      "rowLimit": 10000
     },
     "inputWidgets": {},
     "nuid": "7c8bbf56-91b3-4bcd-9cf6-62cdceed59de",
     "showTitle": false,
     "tableResultSettingsMap": {},
     "title": ""
    }
   },
   "outputs": [],
   "source": [
    "%sql\n",
    "select count(*) from `uc_athlete_data`.silver.strava_activities"
   ]
  },
  {
   "cell_type": "code",
   "execution_count": 0,
   "metadata": {
    "application/vnd.databricks.v1+cell": {
     "cellMetadata": {},
     "inputWidgets": {},
     "nuid": "d4a03c6a-12db-4ea1-b4f6-c4c1b976d1fb",
     "showTitle": false,
     "tableResultSettingsMap": {},
     "title": ""
    }
   },
   "outputs": [],
   "source": [
    "dbutils.fs.rm(\"abfss://bronze@adlsathlete.dfs.core.windows.net/strava/sub_activity/checkpoints/\", recurse=True)\n",
    "dbutils.fs.rm(\"abfss://bronze@adlsathlete.dfs.core.windows.net/strava/activities/checkpoints\", recurse=True)\n",
    "dbutils.fs.rm(\"abfss://bronze@adlsathlete.dfs.core.windows.net/strava/athlete/checkpoints\", recurse=True)\n",
    "dbutils.fs.rm(\"abfss://silver@adlsathlete.dfs.core.windows.net/strava/sub_activity/sub_activity_checkpoint/\", recurse=True)\n",
    "dbutils.fs.rm(\"abfss://silver@adlsathlete.dfs.core.windows.net/strava/activities/activities_checkpoint/\", recurse=True)\n"
   ]
  }
 ],
 "metadata": {
  "application/vnd.databricks.v1+notebook": {
   "computePreferences": null,
   "dashboards": [],
   "environmentMetadata": {
    "base_environment": "",
    "environment_version": "4"
   },
   "inputWidgetPreferences": null,
   "language": "python",
   "notebookMetadata": {
    "mostRecentlyExecutedCommandWithImplicitDF": {
     "commandId": 6345076885499047,
     "dataframes": [
      "_sqldf"
     ]
    },
    "pythonIndentUnit": 4
   },
   "notebookName": "Clean Tables",
   "widgets": {}
  },
  "language_info": {
   "name": "python"
  }
 },
 "nbformat": 4,
 "nbformat_minor": 0
}
