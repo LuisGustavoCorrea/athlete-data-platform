{
 "cells": [
  {
   "cell_type": "code",
   "execution_count": 0,
   "metadata": {
    "application/vnd.databricks.v1+cell": {
     "cellMetadata": {
      "byteLimit": 2048000,
      "implicitDf": true,
      "rowLimit": 10000
     },
     "inputWidgets": {},
     "nuid": "779b0383-5592-4cbd-9830-18b9d6d07180",
     "showTitle": false,
     "tableResultSettingsMap": {},
     "title": ""
    }
   },
   "outputs": [],
   "source": [
    "%sql\n",
    "DROP TABLE IF EXISTS uc_athlete_data.silver.strava_sub_activity;\n"
   ]
  },
  {
   "cell_type": "code",
   "execution_count": 0,
   "metadata": {
    "application/vnd.databricks.v1+cell": {
     "cellMetadata": {
      "byteLimit": 2048000,
      "rowLimit": 10000
     },
     "inputWidgets": {},
     "nuid": "75db7f75-0c23-469c-80ea-e208b53cbb6f",
     "showTitle": false,
     "tableResultSettingsMap": {},
     "title": ""
    }
   },
   "outputs": [],
   "source": [
    "#dbutils.fs.rm(\"abfss://silver@adlsathlete.dfs.core.windows.net/strava/activities/strava_activities/\", recurse=True)\n",
    "#dbutils.fs.rm(\"abfss://silver@adlsathlete.dfs.core.windows.net/\", recurse=True)"
   ]
  },
  {
   "cell_type": "code",
   "execution_count": 0,
   "metadata": {
    "application/vnd.databricks.v1+cell": {
     "cellMetadata": {
      "byteLimit": 2048000,
      "rowLimit": 10000
     },
     "inputWidgets": {},
     "nuid": "2fc29ac7-b74c-4f70-99be-f46d8191c6b1",
     "showTitle": false,
     "tableResultSettingsMap": {},
     "title": ""
    }
   },
   "outputs": [],
   "source": [
    "# 📥 1. Leitura da tabela da Bronze\n",
    "df_bronze = spark.table(\"uc_athlete_data.bronze.strava_sub_activity\").filter(\"athlete_id IS NOT NULL\")"
   ]
  },
  {
   "cell_type": "code",
   "execution_count": 0,
   "metadata": {
    "application/vnd.databricks.v1+cell": {
     "cellMetadata": {
      "byteLimit": 2048000,
      "rowLimit": 10000
     },
     "inputWidgets": {},
     "nuid": "e1192d1b-d558-4191-a639-7ad63f5e255f",
     "showTitle": false,
     "tableResultSettingsMap": {},
     "title": ""
    }
   },
   "outputs": [],
   "source": [
    "# Filtrar registros com athlete_id nulo\n",
    "df_errors = spark.read.table(\"uc_athlete_data.bronze.strava_sub_activity\").filter(\"athlete_id IS NULL\")\n",
    "\n",
    "# Salvar em nova tabela de erros (sobrescrevendo ou adicionando, conforme o caso)\n",
    "df_errors.write.format(\"delta\") \\\n",
    "    .mode(\"append\") \\\n",
    "    .saveAsTable(\"uc_athlete_data.bronze.strava_sub_activity_erros\")\n"
   ]
  },
  {
   "cell_type": "code",
   "execution_count": 0,
   "metadata": {
    "application/vnd.databricks.v1+cell": {
     "cellMetadata": {
      "byteLimit": 2048000,
      "rowLimit": 10000
     },
     "inputWidgets": {},
     "nuid": "52f7ad84-c3ac-44fb-9251-17927e044f69",
     "showTitle": false,
     "tableResultSettingsMap": {},
     "title": ""
    }
   },
   "outputs": [],
   "source": [
    "display(df_bronze)"
   ]
  },
  {
   "cell_type": "code",
   "execution_count": 0,
   "metadata": {
    "application/vnd.databricks.v1+cell": {
     "cellMetadata": {
      "byteLimit": 2048000,
      "implicitDf": true,
      "rowLimit": 10000
     },
     "inputWidgets": {},
     "nuid": "767ccb7c-7689-4296-b052-bcfc56564a93",
     "showTitle": false,
     "tableResultSettingsMap": {},
     "title": ""
    }
   },
   "outputs": [],
   "source": [
    "%sql\n",
    "select * from uc_athlete_data.bronze.strava_sub_activity_errors"
   ]
  },
  {
   "cell_type": "code",
   "execution_count": 0,
   "metadata": {
    "application/vnd.databricks.v1+cell": {
     "cellMetadata": {
      "byteLimit": 2048000,
      "implicitDf": true,
      "rowLimit": 10000
     },
     "inputWidgets": {},
     "nuid": "51aac442-79eb-41f5-96a1-f57477b26568",
     "showTitle": false,
     "tableResultSettingsMap": {},
     "title": ""
    }
   },
   "outputs": [],
   "source": [
    "%sql\n",
    "select count(*), count(distinct id )\n",
    "from uc_athlete_data.bronze.strava_sub_activity"
   ]
  },
  {
   "cell_type": "code",
   "execution_count": 0,
   "metadata": {
    "application/vnd.databricks.v1+cell": {
     "cellMetadata": {
      "byteLimit": 2048000,
      "rowLimit": 10000
     },
     "inputWidgets": {},
     "nuid": "931d1907-1421-4812-83a5-8721389118fa",
     "showTitle": false,
     "tableResultSettingsMap": {},
     "title": ""
    }
   },
   "outputs": [],
   "source": [
    "from pyspark.sql.window import Window\n",
    "from pyspark.sql.functions import row_number, col\n",
    "\n",
    "# Definindo a window\n",
    "window_spec = Window.partitionBy(\"athlete_id\",\"id\",\"start_date\").orderBy(col(\"ingestion_timestamp\").desc())\n",
    "\n",
    "# Aplicando row_number\n",
    "df_ranked = df_bronze.withColumn(\"row_num\", row_number().over(window_spec))\n",
    "\n",
    "# Mantendo apenas a 1ª linha de cada grupo\n",
    "df_deduplicated = df_ranked.filter(col(\"row_num\") == 1).drop(\"row_num\")\n"
   ]
  },
  {
   "cell_type": "code",
   "execution_count": 0,
   "metadata": {
    "application/vnd.databricks.v1+cell": {
     "cellMetadata": {
      "byteLimit": 2048000,
      "rowLimit": 10000
     },
     "inputWidgets": {},
     "nuid": "3e7799f2-235c-4443-81f7-f1fa2ffb09b0",
     "showTitle": false,
     "tableResultSettingsMap": {},
     "title": ""
    }
   },
   "outputs": [],
   "source": [
    "display(df_deduplicated).top"
   ]
  },
  {
   "cell_type": "code",
   "execution_count": 0,
   "metadata": {
    "application/vnd.databricks.v1+cell": {
     "cellMetadata": {
      "byteLimit": 2048000,
      "implicitDf": true,
      "rowLimit": 10000
     },
     "inputWidgets": {},
     "nuid": "a202fa3c-10ad-42f5-a3d0-b68be748263b",
     "showTitle": false,
     "tableResultSettingsMap": {},
     "title": ""
    }
   },
   "outputs": [],
   "source": [
    "# 🧼 2. Transformações e limpeza\n",
    "from pyspark.sql.functions import col, from_unixtime, round, date_format\n",
    "from pyspark.sql.functions import to_timestamp\n",
    "from pyspark.sql.functions import to_date, round, col,when,expr\n",
    "from pyspark.sql.functions import col, round, to_timestamp, to_date, when, date_format\n",
    "from pyspark.sql.functions import floor, round, format_string, col\n",
    "from pyspark.sql.functions import input_file_name, regexp_extract\n",
    "\n",
    "df_silver = (\n",
    "    df_deduplicated\n",
    "    .withColumn(\"start_date\", to_timestamp(\"start_date\", \"yyyy-MM-dd'T'HH:mm:ss'Z'\"))\n",
    "    .withColumn(\"start_date\", to_date(\"start_date\"))\n",
    ")\n",
    "\n",
    "display(df_silver)\n",
    "# 📤 3. Escrita na Silver como Delta\n",
    "output_path = \"abfss://silver@adlsathlete.dfs.core.windows.net/strava/sub_activity/\"\n",
    "\n",
    "df_silver.write.format(\"delta\").mode(\"overwrite\").option(\"overwriteSchema\", \"true\").save(output_path)\n"
   ]
  },
  {
   "cell_type": "code",
   "execution_count": 0,
   "metadata": {
    "application/vnd.databricks.v1+cell": {
     "cellMetadata": {
      "byteLimit": 2048000,
      "implicitDf": true,
      "rowLimit": 10000
     },
     "inputWidgets": {},
     "nuid": "f9afa237-548d-41e7-9c44-20f4e5c71bd6",
     "showTitle": false,
     "tableResultSettingsMap": {},
     "title": ""
    }
   },
   "outputs": [],
   "source": [
    "%sql\n",
    "drop table uc_athlete_data.silver.strava_sub_activity"
   ]
  },
  {
   "cell_type": "code",
   "execution_count": 0,
   "metadata": {
    "application/vnd.databricks.v1+cell": {
     "cellMetadata": {
      "byteLimit": 2048000,
      "implicitDf": true,
      "rowLimit": 10000
     },
     "inputWidgets": {},
     "nuid": "7b84b7db-617a-4baf-8f06-5180b8d3e4b6",
     "showTitle": false,
     "tableResultSettingsMap": {},
     "title": ""
    }
   },
   "outputs": [],
   "source": [
    "%sql\n",
    "CREATE TABLE IF NOT EXISTS uc_athlete_data.silver.strava_sub_activity\n",
    "USING DELTA\n",
    "LOCATION 'abfss://silver@adlsathlete.dfs.core.windows.net/strava/sub_activity/';\n"
   ]
  },
  {
   "cell_type": "code",
   "execution_count": 0,
   "metadata": {
    "application/vnd.databricks.v1+cell": {
     "cellMetadata": {
      "byteLimit": 2048000,
      "implicitDf": true,
      "rowLimit": 10000
     },
     "inputWidgets": {},
     "nuid": "ea9c77a8-1fc9-4b83-970c-a6e2332fae3e",
     "showTitle": false,
     "tableResultSettingsMap": {},
     "title": ""
    }
   },
   "outputs": [],
   "source": [
    "%sql\n",
    "select id,elapsed_time, * from uc_athlete_data.silver.strava_sub_activity\n",
    "--where start_date = '2025-01-03'"
   ]
  },
  {
   "cell_type": "code",
   "execution_count": 0,
   "metadata": {
    "application/vnd.databricks.v1+cell": {
     "cellMetadata": {
      "byteLimit": 2048000,
      "rowLimit": 10000
     },
     "inputWidgets": {},
     "nuid": "b5bc5907-f69b-4ac6-8075-126be58dab7a",
     "showTitle": false,
     "tableResultSettingsMap": {},
     "title": ""
    }
   },
   "outputs": [],
   "source": [
    "from pyspark.sql.functions import col, to_date, row_number\n",
    "from pyspark.sql.window import Window\n",
    "\n",
    "# Suponha que você já tenha um DataFrame chamado df (do silver_sub_activity)\n",
    "# Converter a coluna de data para formato de data apenas\n",
    "df = _sqldf .withColumn(\"activity_date\", to_date(col(\"start_date_local\")))\n",
    "\n",
    "# Criar janela particionada por dia, ordenando pela maior duração (elapsed_time)\n",
    "window_spec = Window.partitionBy(\"activity_date\",\"sport_type\").orderBy(col(\"calories\").desc(),col(\"achievement_count\").desc(), col(\"elapsed_time\").desc())\n",
    "\n",
    "# Adicionar coluna de ranking\n",
    "df_ranked = df.withColumn(\"rank\", row_number().over(window_spec))\n",
    "\n",
    "# Filtrar apenas a primeira corrida de cada dia\n",
    "df_one_per_day = df_ranked.filter(col(\"rank\") == 1).drop(\"rank\")\n",
    "df_one_per_day.createOrReplaceTempView(\"temp_view\")\n"
   ]
  },
  {
   "cell_type": "code",
   "execution_count": 0,
   "metadata": {
    "application/vnd.databricks.v1+cell": {
     "cellMetadata": {
      "byteLimit": 2048000,
      "implicitDf": true,
      "rowLimit": 10000
     },
     "inputWidgets": {},
     "nuid": "8d5a38f0-3ba3-4858-9739-a4db56c200e3",
     "showTitle": false,
     "tableResultSettingsMap": {},
     "title": ""
    }
   },
   "outputs": [],
   "source": [
    "%sql\n",
    "create table uc_athlete_data.silver.sub_activity_final as\n",
    "select sport_type, id, calories from temp_view\n",
    "--where start_date = '2025-01-03'\n",
    "where calories >0\n",
    "order by 1"
   ]
  },
  {
   "cell_type": "code",
   "execution_count": 0,
   "metadata": {
    "application/vnd.databricks.v1+cell": {
     "cellMetadata": {
      "byteLimit": 2048000,
      "implicitDf": true,
      "rowLimit": 10000
     },
     "inputWidgets": {},
     "nuid": "dec7bcd0-1ee5-4704-9f92-deb3f3460d71",
     "showTitle": false,
     "tableResultSettingsMap": {},
     "title": ""
    }
   },
   "outputs": [],
   "source": [
    "%sql\n",
    "select id,* from uc_athlete_data.silver.strava_activities\n",
    "where id in (13271032297,13271032301)\n",
    "order by 1"
   ]
  },
  {
   "cell_type": "code",
   "execution_count": 0,
   "metadata": {
    "application/vnd.databricks.v1+cell": {
     "cellMetadata": {
      "byteLimit": 2048000,
      "implicitDf": true,
      "rowLimit": 10000
     },
     "inputWidgets": {},
     "nuid": "9c9d12a0-1290-4455-a33b-65a1044d0f1c",
     "showTitle": false,
     "tableResultSettingsMap": {},
     "title": ""
    }
   },
   "outputs": [],
   "source": [
    "%sql\n",
    "select count(id), count(distinct id) from uc_athlete_data.silver.strava_sub_activity"
   ]
  },
  {
   "cell_type": "code",
   "execution_count": 0,
   "metadata": {
    "application/vnd.databricks.v1+cell": {
     "cellMetadata": {
      "byteLimit": 2048000,
      "implicitDf": true,
      "rowLimit": 10000
     },
     "inputWidgets": {},
     "nuid": "9e6f7952-493b-471f-ae59-970ef4069d31",
     "showTitle": false,
     "tableResultSettingsMap": {},
     "title": ""
    }
   },
   "outputs": [],
   "source": [
    "%sql\n",
    "create or replace temp view vw_strava_activities as\n",
    "select *\n",
    "from uc_athlete_data.silver.strava_activities\n",
    "where start_date >= '2024-12-01'"
   ]
  },
  {
   "cell_type": "code",
   "execution_count": 0,
   "metadata": {
    "application/vnd.databricks.v1+cell": {
     "cellMetadata": {
      "byteLimit": 2048000,
      "implicitDf": true,
      "rowLimit": 10000
     },
     "inputWidgets": {},
     "nuid": "87557f60-c9f6-4b5b-a6f9-f20a2a265d34",
     "showTitle": false,
     "tableResultSettingsMap": {},
     "title": ""
    }
   },
   "outputs": [],
   "source": [
    "%sql\n",
    "select distinct a.id\n",
    "from vw_strava_activities a\n",
    "left join uc_athlete_data.silver.strava_sub_activity b\n",
    "  on a.id = b.id\n",
    "where b.id is null"
   ]
  },
  {
   "cell_type": "markdown",
   "metadata": {
    "application/vnd.databricks.v1+cell": {
     "cellMetadata": {
      "byteLimit": 2048000,
      "rowLimit": 10000
     },
     "inputWidgets": {},
     "nuid": "5ea36b32-1fe6-49cb-b615-2e55738078eb",
     "showTitle": true,
     "tableResultSettingsMap": {},
     "title": ""
    },
    "jupyter": {
     "outputs_hidden": true
    }
   },
   "source": []
  }
 ],
 "metadata": {
  "application/vnd.databricks.v1+notebook": {
   "computePreferences": null,
   "dashboards": [],
   "environmentMetadata": {
    "base_environment": "",
    "environment_version": "2"
   },
   "inputWidgetPreferences": null,
   "language": "python",
   "notebookMetadata": {
    "mostRecentlyExecutedCommandWithImplicitDF": {
     "commandId": 7164848122636925,
     "dataframes": [
      "_sqldf"
     ]
    },
    "pythonIndentUnit": 4
   },
   "notebookName": "silver sub activity",
   "widgets": {}
  },
  "language_info": {
   "name": "python"
  }
 },
 "nbformat": 4,
 "nbformat_minor": 0
}
