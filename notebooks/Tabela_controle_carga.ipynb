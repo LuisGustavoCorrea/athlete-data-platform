{
 "cells": [
  {
   "cell_type": "code",
   "execution_count": 0,
   "metadata": {
    "application/vnd.databricks.v1+cell": {
     "cellMetadata": {
      "byteLimit": 2048000,
      "rowLimit": 10000
     },
     "inputWidgets": {},
     "nuid": "a87b4ed9-2e1b-480f-bb3f-db307654c410",
     "showTitle": false,
     "tableResultSettingsMap": {},
     "title": ""
    }
   },
   "outputs": [],
   "source": [
    "df_silver = spark.table(\"uc_athlete_data.silver.strava_activities\").select(\"athlete_id\",\"start_date\",\"ingestion_timestamp\")\n",
    "display(df_silver)"
   ]
  },
  {
   "cell_type": "code",
   "execution_count": 0,
   "metadata": {
    "application/vnd.databricks.v1+cell": {
     "cellMetadata": {
      "byteLimit": 2048000,
      "rowLimit": 10000
     },
     "inputWidgets": {},
     "nuid": "78775c05-7706-46b5-a44a-bfef27ace8f8",
     "showTitle": false,
     "tableResultSettingsMap": {},
     "title": ""
    }
   },
   "outputs": [],
   "source": [
    "from pyspark.sql.window import Window\n",
    "from pyspark.sql.functions import row_number, col\n",
    "from pyspark.sql.functions import lit\n",
    "\n",
    "# Definindo a window\n",
    "w_last_activity_date = Window.partitionBy(\"athlete_id\").orderBy(col(\"start_date\").desc())\n",
    "w_first_ingestion_date = Window.partitionBy(\"athlete_id\").orderBy(col(\"ingestion_timestamp\").asc())\n",
    "\n",
    "# Aplicando row_number\n",
    "df_last_activity = df_silver.withColumn(\"row_last_actitivity\", row_number().over(w_last_activity_date))\n",
    "df_first_ingestion = df_silver.withColumn(\"row_first_ingestion\", row_number().over(w_first_ingestion_date))\n",
    "\n",
    "#Aplica Filtro Ultima atividade e primeira ingestão\n",
    "df_last_activity = df_last_activity.filter(col(\"row_last_actitivity\") == 1).select(\"athlete_id\",\"start_date\")\n",
    "df_first_ingestion = df_first_ingestion.filter(col(\"row_first_ingestion\") == 1).select(\"athlete_id\",\"ingestion_timestamp\")\n",
    "\n",
    "\n",
    "display(df_last_activity)\n",
    "display(df_first_ingestion)\n",
    "\n",
    "# Mantendo apenas a 1ª linha de cada grupo\n",
    "#df = df_ranked.filter(col(\"row_num\") == 1)#.drop(\"row_num\")\n",
    "#display(df)"
   ]
  },
  {
   "cell_type": "code",
   "execution_count": 0,
   "metadata": {
    "application/vnd.databricks.v1+cell": {
     "cellMetadata": {
      "byteLimit": 2048000,
      "rowLimit": 10000
     },
     "inputWidgets": {},
     "nuid": "c2e94789-ed7f-4159-876f-3b3090e582a8",
     "showTitle": false,
     "tableResultSettingsMap": {},
     "title": ""
    }
   },
   "outputs": [],
   "source": [
    "\n",
    "\n",
    "df_tb_controle = df_last_activity.join(df_first_ingestion, \"athlete_id\", \"inner\").withColumn(\"full_carga\", lit(\"N\"))  \n",
    "display(df_tb_controle)"
   ]
  },
  {
   "cell_type": "code",
   "execution_count": 0,
   "metadata": {
    "application/vnd.databricks.v1+cell": {
     "cellMetadata": {
      "byteLimit": 2048000,
      "rowLimit": 10000
     },
     "inputWidgets": {},
     "nuid": "9d8c8aba-763a-4a6a-bb0e-a9f944b9808c",
     "showTitle": false,
     "tableResultSettingsMap": {},
     "title": ""
    }
   },
   "outputs": [],
   "source": [
    "from pyspark.sql.functions import unix_timestamp, col\n",
    "\n",
    "def convert_to_unix(df, column_name, new_column_name=None):\n",
    "    \"\"\"\n",
    "    Converte uma coluna de timestamp para Unix timestamp (segundos).\n",
    "    \"\"\"\n",
    "    if not new_column_name:\n",
    "        new_column_name = f\"{column_name}_unix\"\n",
    "    return df.withColumn(new_column_name, unix_timestamp(col(column_name)))\n",
    "\n",
    "df_tb_controle = convert_to_unix(df_tb_controle, \"start_date\")\n",
    "df_tb_controle = convert_to_unix(df_tb_controle, \"ingestion_timestamp\")\n",
    "display(df_tb_controle)\n"
   ]
  },
  {
   "cell_type": "code",
   "execution_count": 0,
   "metadata": {
    "application/vnd.databricks.v1+cell": {
     "cellMetadata": {
      "byteLimit": 2048000,
      "rowLimit": 10000
     },
     "inputWidgets": {},
     "nuid": "1aca92d4-dde7-4d0c-bcb1-6c092dac4f00",
     "showTitle": false,
     "tableResultSettingsMap": {},
     "title": ""
    }
   },
   "outputs": [],
   "source": [
    "path = \"abfss://silver@adlsathlete.dfs.core.windows.net/data-move/\"\n",
    "file_name = \"abfss://silver@adlsathlete.dfs.core.windows.net/strava/control_load_table.csv\"\n",
    "\n",
    "df_tb_controle.repartition(1).write.options(header='True', delimiter=',') \\\n",
    "        .option(\"escapeQuotes\", \"false\") \\\n",
    "        .option(\"enconding\", \"UTF-8\") \\\n",
    "        .csv(path)\n",
    "\n",
    "arquivos = dbutils.fs.ls(path)\n",
    "\n",
    "for arquivo in arquivos:\n",
    "    if arquivo.name.startswith(\"part-\"):\n",
    "        arquivo_part = arquivo.path\n",
    "        dbutils.fs.mv(arquivo_part, file_name)\n",
    "\n",
    "dbutils.fs.rm(path, True)\n",
    " "
   ]
  },
  {
   "cell_type": "code",
   "execution_count": 0,
   "metadata": {
    "application/vnd.databricks.v1+cell": {
     "cellMetadata": {
      "byteLimit": 2048000,
      "implicitDf": true,
      "rowLimit": 10000
     },
     "inputWidgets": {},
     "nuid": "67ce74d9-0196-482f-954c-642b20cfec23",
     "showTitle": false,
     "tableResultSettingsMap": {},
     "title": ""
    }
   },
   "outputs": [],
   "source": [
    "%sql\n",
    "drop table uc_athlete_data.silver.control_load_table"
   ]
  },
  {
   "cell_type": "code",
   "execution_count": 0,
   "metadata": {
    "application/vnd.databricks.v1+cell": {
     "cellMetadata": {
      "byteLimit": 2048000,
      "rowLimit": 10000
     },
     "inputWidgets": {},
     "nuid": "4530c420-d8cb-4921-9798-d704928e447e",
     "showTitle": false,
     "tableResultSettingsMap": {},
     "title": ""
    }
   },
   "outputs": [],
   "source": [
    "df_tb_controle.write.format(\"delta\") \\\n",
    "    .mode(\"overwrite\") \\\n",
    "    .saveAsTable(\"uc_athlete_data.silver.control_load_table\")\n"
   ]
  },
  {
   "cell_type": "code",
   "execution_count": 0,
   "metadata": {
    "application/vnd.databricks.v1+cell": {
     "cellMetadata": {
      "byteLimit": 2048000,
      "implicitDf": true,
      "rowLimit": 10000
     },
     "inputWidgets": {},
     "nuid": "888ae649-a7ea-4419-afd5-78e527ed0f23",
     "showTitle": false,
     "tableResultSettingsMap": {},
     "title": ""
    }
   },
   "outputs": [],
   "source": [
    "%sql\n",
    "select * from uc_athlete_data.silver.control_load_table"
   ]
  }
 ],
 "metadata": {
  "application/vnd.databricks.v1+notebook": {
   "computePreferences": null,
   "dashboards": [],
   "environmentMetadata": {
    "base_environment": "",
    "environment_version": "2"
   },
   "inputWidgetPreferences": null,
   "language": "python",
   "notebookMetadata": {
    "mostRecentlyExecutedCommandWithImplicitDF": {
     "commandId": 4534868940349662,
     "dataframes": [
      "_sqldf"
     ]
    },
    "pythonIndentUnit": 4
   },
   "notebookName": "Tabela_controle_carga",
   "widgets": {}
  },
  "language_info": {
   "name": "python"
  }
 },
 "nbformat": 4,
 "nbformat_minor": 0
}
