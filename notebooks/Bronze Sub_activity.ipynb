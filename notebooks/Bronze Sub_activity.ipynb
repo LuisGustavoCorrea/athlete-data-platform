{
 "cells": [
  {
   "cell_type": "code",
   "execution_count": 0,
   "metadata": {
    "application/vnd.databricks.v1+cell": {
     "cellMetadata": {
      "byteLimit": 2048000,
      "rowLimit": 10000
     },
     "inputWidgets": {},
     "nuid": "beaaec7e-62b5-4385-a449-1e3d8417972f",
     "showTitle": false,
     "tableResultSettingsMap": {},
     "title": ""
    }
   },
   "outputs": [],
   "source": [
    "dbutils.fs.rm(\"abfss://bronze@adlsathlete.dfs.core.windows.net/strava/sub_activity/checkpoints/\", recurse=True)\n"
   ]
  },
  {
   "cell_type": "code",
   "execution_count": 0,
   "metadata": {
    "application/vnd.databricks.v1+cell": {
     "cellMetadata": {
      "byteLimit": 2048000,
      "rowLimit": 10000
     },
     "inputWidgets": {},
     "nuid": "8ed11130-5d20-4e1c-bb88-14b686b31dc0",
     "showTitle": false,
     "tableResultSettingsMap": {},
     "title": ""
    }
   },
   "outputs": [],
   "source": [
    "\n",
    "from pyspark.sql.functions import current_timestamp\n",
    "from pyspark.sql.functions import col\n",
    "class BronzeLoader:\n",
    "    def __init__(self, input_path, checkpoint_path, format_file):\n",
    "        self.input_path = input_path\n",
    "        self.checkpoint_path = checkpoint_path\n",
    "        self.format_file = format_file\n",
    "\n",
    "    def read_autoloader(self, schema=None):\n",
    "        df = (spark.readStream\n",
    "              .format(\"cloudFiles\")\n",
    "              .option(\"cloudFiles.format\", self.format_file)\n",
    "              .option(\"cloudFiles.inferColumnTypes\", \"true\")\n",
    "              .option(\"cloudFiles.schemaEvolutionMode\", \"addNewColumns\")\n",
    "              .option(\"cloudFiles.schemaLocation\", self.checkpoint_path)\n",
    "              .load(self.input_path)\n",
    "             )\n",
    "        return df if not schema else df.selectExpr(*schema)\n",
    "\n",
    "    def standardize_columns(self, df):\n",
    "        return (df\n",
    "                .withColumn(\"athlete_id\", col(\"athlete.id\"))\n",
    "                .withColumn(\"ingestion_timestamp\", current_timestamp())\n",
    "               )\n",
    "    \n",
    "    def write_to_bronze(self, df, output_path):\n",
    "        return (df.writeStream\n",
    "              .format(\"delta\")  # <-- aqui muda\n",
    "              .option(\"checkpointLocation\", self.checkpoint_path)\n",
    "              .option(\"mergeSchema\", \"true\")\n",
    "              .outputMode(\"append\")\n",
    "              .trigger(availableNow=True)\n",
    "              .start(output_path)\n",
    "           )\n"
   ]
  },
  {
   "cell_type": "code",
   "execution_count": 0,
   "metadata": {
    "application/vnd.databricks.v1+cell": {
     "cellMetadata": {
      "byteLimit": 2048000,
      "rowLimit": 10000
     },
     "inputWidgets": {},
     "nuid": "8c61b33b-b56d-4116-9f9e-96cac0dee2dc",
     "showTitle": false,
     "tableResultSettingsMap": {},
     "title": ""
    }
   },
   "outputs": [],
   "source": [
    "bronze = BronzeLoader(\n",
    "    input_path=\"abfss://raw@adlsathlete.dfs.core.windows.net/strava/sub_activity/\",\n",
    "    checkpoint_path=\"abfss://bronze@adlsathlete.dfs.core.windows.net/strava/sub_activity/checkpoints/\",\n",
    "    format_file=\"json\"\n",
    "    \n",
    ")\n",
    "\n",
    "df = bronze.read_autoloader()\n",
    "df = bronze.standardize_columns(df)\n",
    "df.display()\n",
    "\n",
    "bronze.write_to_bronze(\n",
    "    df,\n",
    "    output_path=\"abfss://bronze@adlsathlete.dfs.core.windows.net/strava/sub_activity/\"\n",
    ")"
   ]
  },
  {
   "cell_type": "code",
   "execution_count": 0,
   "metadata": {
    "application/vnd.databricks.v1+cell": {
     "cellMetadata": {
      "byteLimit": 2048000,
      "implicitDf": true,
      "rowLimit": 10000
     },
     "inputWidgets": {},
     "nuid": "a169e9b2-1b7a-4aba-a8cd-0c325d1e5163",
     "showTitle": false,
     "tableResultSettingsMap": {},
     "title": ""
    }
   },
   "outputs": [],
   "source": [
    "%sql\n",
    "CREATE TABLE IF NOT EXISTS `uc_athlete_data`.bronze.strava_sub_activity\n",
    "USING DELTA \n",
    "COMMENT \"Tabela com SUB atividades dos atletas no Strava\"\n",
    "LOCATION 'abfss://bronze@adlsathlete.dfs.core.windows.net/strava/sub_activity/'"
   ]
  },
  {
   "cell_type": "code",
   "execution_count": 0,
   "metadata": {
    "application/vnd.databricks.v1+cell": {
     "cellMetadata": {
      "byteLimit": 2048000,
      "implicitDf": true,
      "rowLimit": 10000
     },
     "inputWidgets": {},
     "nuid": "ab9a54a3-1602-4a4d-9a8a-a720509043a6",
     "showTitle": false,
     "tableResultSettingsMap": {},
     "title": ""
    }
   },
   "outputs": [],
   "source": [
    "%sql\n",
    "select * from `uc_athlete_data`.bronze.strava_sub_activity"
   ]
  }
 ],
 "metadata": {
  "application/vnd.databricks.v1+notebook": {
   "computePreferences": null,
   "dashboards": [],
   "environmentMetadata": {
    "base_environment": "",
    "environment_version": "2"
   },
   "inputWidgetPreferences": null,
   "language": "python",
   "notebookMetadata": {
    "mostRecentlyExecutedCommandWithImplicitDF": {
     "commandId": 7456821615108359,
     "dataframes": [
      "_sqldf"
     ]
    },
    "pythonIndentUnit": 4
   },
   "notebookName": "Bronze Sub_activity",
   "widgets": {}
  },
  "language_info": {
   "name": "python"
  }
 },
 "nbformat": 4,
 "nbformat_minor": 0
}
