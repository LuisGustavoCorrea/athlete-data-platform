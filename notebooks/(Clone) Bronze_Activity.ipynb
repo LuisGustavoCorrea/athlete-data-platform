{
 "cells": [
  {
   "cell_type": "code",
   "execution_count": 0,
   "metadata": {
    "application/vnd.databricks.v1+cell": {
     "cellMetadata": {
      "byteLimit": 2048000,
      "rowLimit": 10000
     },
     "inputWidgets": {},
     "nuid": "5986be8b-9e59-48d1-a440-bf7a25d97b91",
     "showTitle": false,
     "tableResultSettingsMap": {},
     "title": ""
    }
   },
   "outputs": [],
   "source": [
    "from pyspark.sql.functions import current_timestamp\n",
    "from pyspark.sql.functions import col"
   ]
  },
  {
   "cell_type": "code",
   "execution_count": 0,
   "metadata": {
    "application/vnd.databricks.v1+cell": {
     "cellMetadata": {
      "byteLimit": 2048000,
      "rowLimit": 10000
     },
     "inputWidgets": {},
     "nuid": "3e19ad8e-6c46-42da-bb88-9a97ef307c34",
     "showTitle": false,
     "tableResultSettingsMap": {},
     "title": ""
    }
   },
   "outputs": [],
   "source": [
    "from bronzeload.auto_loader_class import BronzeLoader\n"
   ]
  },
  {
   "cell_type": "code",
   "execution_count": 0,
   "metadata": {
    "application/vnd.databricks.v1+cell": {
     "cellMetadata": {
      "byteLimit": 2048000,
      "rowLimit": 10000
     },
     "inputWidgets": {},
     "nuid": "569cf8dc-1479-4deb-b02c-87336479ef4a",
     "showTitle": false,
     "tableResultSettingsMap": {},
     "title": ""
    }
   },
   "outputs": [],
   "source": [
    "#dbutils.fs.rm(\"abfss://bronze@adlsathlete.dfs.core.windows.net/strava/activities/checkpoints\", recurse=True)\n"
   ]
  },
  {
   "cell_type": "code",
   "execution_count": 0,
   "metadata": {
    "application/vnd.databricks.v1+cell": {
     "cellMetadata": {
      "byteLimit": 2048000,
      "rowLimit": 10000
     },
     "inputWidgets": {},
     "nuid": "edc46681-71bc-4ee5-9ab1-c748481791bb",
     "showTitle": false,
     "tableResultSettingsMap": {},
     "title": ""
    }
   },
   "outputs": [],
   "source": [
    "bronze = BronzeLoader(\n",
    "    input_path=\"abfss://raw@adlsathlete.dfs.core.windows.net/strava/activities/\",\n",
    "    checkpoint_path=\"abfss://bronze@adlsathlete.dfs.core.windows.net/strava/activities/checkpoints/\",\n",
    "    format_file=\"json\"\n",
    "    \n",
    ")\n",
    "\n",
    "df = bronze.read_autoloader()\n",
    "df = bronze.standardize_columns(df)\n",
    "df.display()\n",
    "bronze.write_to_bronze(\n",
    "    df,\n",
    "    output_path=\"abfss://bronze@adlsathlete.dfs.core.windows.net/strava/activities/\"\n",
    ")\n"
   ]
  },
  {
   "cell_type": "code",
   "execution_count": 0,
   "metadata": {
    "application/vnd.databricks.v1+cell": {
     "cellMetadata": {
      "byteLimit": 2048000,
      "implicitDf": true,
      "rowLimit": 10000
     },
     "inputWidgets": {},
     "nuid": "7d489ddd-1b8a-4b63-9f76-7f334b9da599",
     "showTitle": false,
     "tableResultSettingsMap": {},
     "title": ""
    }
   },
   "outputs": [],
   "source": [
    "%sql\n",
    "CREATE TABLE IF NOT EXISTS `uc_athlete_data`.bronze.strava_activities\n",
    "USING DELTA \n",
    "COMMENT \"Tabela com atividades dos atletas no Strava\"\n",
    "LOCATION 'abfss://bronze@adlsathlete.dfs.core.windows.net/strava/activities/'"
   ]
  },
  {
   "cell_type": "code",
   "execution_count": 0,
   "metadata": {
    "application/vnd.databricks.v1+cell": {
     "cellMetadata": {
      "byteLimit": 2048000,
      "implicitDf": true,
      "rowLimit": 10000
     },
     "inputWidgets": {},
     "nuid": "3f3027d4-8421-46c3-8b7f-c5abcbeed8bf",
     "showTitle": false,
     "tableResultSettingsMap": {
      "0": {
       "dataGridStateBlob": "{\"version\":1,\"tableState\":{\"columnPinning\":{\"left\":[\"#row_number#\"],\"right\":[]},\"columnSizing\":{},\"columnVisibility\":{}},\"settings\":{\"columns\":{}},\"syncTimestamp\":1758055366317}",
       "filterBlob": null,
       "queryPlanFiltersBlob": null,
       "tableResultIndex": 0
      }
     },
     "title": ""
    }
   },
   "outputs": [],
   "source": [
    "%sql\n",
    "select * from `uc_athlete_data`.bronze.strava_activities"
   ]
  },
  {
   "cell_type": "code",
   "execution_count": 0,
   "metadata": {
    "application/vnd.databricks.v1+cell": {
     "cellMetadata": {
      "byteLimit": 2048000,
      "rowLimit": 10000
     },
     "inputWidgets": {},
     "nuid": "f5e5d89b-cc61-4255-b601-109e0f62d214",
     "showTitle": false,
     "tableResultSettingsMap": {},
     "title": ""
    }
   },
   "outputs": [],
   "source": [
    "bronze = BronzeLoader(\n",
    "    input_path=\"abfss://raw@adlsathlete.dfs.core.windows.net/strava/sub_activity/\",\n",
    "    checkpoint_path=\"abfss://bronze@adlsathlete.dfs.core.windows.net/strava/sub_activity/checkpoints/\",\n",
    "    format_file=\"json\"\n",
    "    \n",
    ")\n",
    "\n",
    "df = bronze.read_autoloader()\n",
    "df = bronze.standardize_columns(df)\n",
    "df.display()\n",
    "bronze.write_to_bronze(\n",
    "    df,\n",
    "    output_path=\"abfss://bronze@adlsathlete.dfs.core.windows.net/strava/sub_activity/\"\n",
    ")\n"
   ]
  }
 ],
 "metadata": {
  "application/vnd.databricks.v1+notebook": {
   "computePreferences": {
    "hardware": {
     "accelerator": null,
     "gpuPoolId": null,
     "memory": null
    }
   },
   "dashboards": [],
   "environmentMetadata": {
    "base_environment": "",
    "environment_version": "2"
   },
   "inputWidgetPreferences": null,
   "language": "python",
   "notebookMetadata": {
    "mostRecentlyExecutedCommandWithImplicitDF": {
     "commandId": 2446920301525886,
     "dataframes": [
      "_sqldf"
     ]
    },
    "pythonIndentUnit": 4
   },
   "notebookName": "(Clone) Bronze_Activity",
   "widgets": {}
  },
  "language_info": {
   "name": "python"
  }
 },
 "nbformat": 4,
 "nbformat_minor": 0
}
