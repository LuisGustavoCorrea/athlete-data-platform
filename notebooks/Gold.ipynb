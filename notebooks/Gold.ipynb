{
 "cells": [
  {
   "cell_type": "code",
   "execution_count": 0,
   "metadata": {
    "application/vnd.databricks.v1+cell": {
     "cellMetadata": {
      "byteLimit": 2048000,
      "rowLimit": 10000
     },
     "inputWidgets": {},
     "nuid": "a7669a50-4828-4fb7-8b41-4c7d19edda45",
     "showTitle": false,
     "tableResultSettingsMap": {},
     "title": ""
    }
   },
   "outputs": [],
   "source": [
    "from pyspark.sql.functions import col, weekofyear, year, avg, sum, count, round\n",
    "\n",
    "df = spark.table(\"uc_athlete_data.silver.strava_activities\")\n",
    "\n",
    "df_runs = df.filter(col(\"sport_type\") == \"Run\")\n",
    "\n",
    "df_gold = df_runs.withColumn(\"year\", year(\"start_date\")) \\\n",
    "                 .withColumn(\"week\", weekofyear(\"start_date\")) \\\n",
    "                 .groupBy(\"year\", \"week\") \\\n",
    "                 .agg(\n",
    "                     count(\"*\").alias(\"total_activities\"),\n",
    "                     round(sum(\"distance_km\"), 2).alias(\"total_distance_km\"),\n",
    "                     round(sum(\"total_elevation_gain\"), 2).alias(\"total_elevation_gain\"),\n",
    "                     round(avg(\"pace_min_km\"), 2).alias(\"avg_pace_min_km\"),\n",
    "                     round(avg(\"average_speed_kmh\"), 2).alias(\"avg_speed_kmh\")\n",
    "                 )\n"
   ]
  },
  {
   "cell_type": "code",
   "execution_count": 0,
   "metadata": {
    "application/vnd.databricks.v1+cell": {
     "cellMetadata": {
      "byteLimit": 2048000,
      "rowLimit": 10000
     },
     "inputWidgets": {},
     "nuid": "d021adcc-285b-4df5-8e50-9c32d22f820e",
     "showTitle": false,
     "tableResultSettingsMap": {},
     "title": ""
    }
   },
   "outputs": [],
   "source": [
    "display(df_gold)"
   ]
  }
 ],
 "metadata": {
  "application/vnd.databricks.v1+notebook": {
   "computePreferences": null,
   "dashboards": [],
   "environmentMetadata": {
    "base_environment": "",
    "environment_version": "2"
   },
   "inputWidgetPreferences": null,
   "language": "python",
   "notebookMetadata": {
    "pythonIndentUnit": 4
   },
   "notebookName": "Gold",
   "widgets": {}
  },
  "language_info": {
   "name": "python"
  }
 },
 "nbformat": 4,
 "nbformat_minor": 0
}
