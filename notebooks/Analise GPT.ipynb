{
 "cells": [
  {
   "cell_type": "code",
   "execution_count": 0,
   "metadata": {
    "application/vnd.databricks.v1+cell": {
     "cellMetadata": {
      "byteLimit": 2048000,
      "implicitDf": true,
      "rowLimit": 10000
     },
     "inputWidgets": {},
     "nuid": "10f49d15-9438-4435-8655-8997f8de3b91",
     "showTitle": false,
     "tableResultSettingsMap": {
      "0": {
       "dataGridStateBlob": "{\"version\":1,\"tableState\":{\"columnPinning\":{\"left\":[\"#row_number#\"],\"right\":[]},\"columnSizing\":{},\"columnVisibility\":{}},\"settings\":{\"columns\":{}},\"syncTimestamp\":1752020936736}",
       "filterBlob": null,
       "queryPlanFiltersBlob": null,
       "tableResultIndex": 0
      }
     },
     "title": ""
    }
   },
   "outputs": [],
   "source": [
    "%sql\n",
    "select \n",
    "a.athlete_id,\n",
    "a.sport_type,\n",
    "b.calories,\n",
    "a.achievement_count, \n",
    "a.pr_count,\n",
    "a.has_heartrate,  \n",
    "a.average_heartrate,\n",
    "a.max_heartrate,\n",
    "a.start_date,\n",
    "a.start_date_local,\n",
    "a.distance_km,\n",
    "a.average_speed_kmh,\n",
    "a.average_cadence,\n",
    "a.total_elevation_gain,\n",
    "a.tempo_real,\n",
    "a.pace_strava,\n",
    "a.dia_semana,\n",
    "CASE\n",
    "    WHEN hour(to_timestamp(start_date_local)) < 12 THEN 'manhã'\n",
    "    WHEN hour(to_timestamp(start_date_local)) < 18 THEN 'tarde'\n",
    "    ELSE 'noite'\n",
    "  END AS periodo_dia,\n",
    "weekofyear(to_timestamp(start_date_local)) AS semana,\n",
    "year(to_timestamp(start_date_local)) AS ano,\n",
    "CASE \n",
    "  WHEN calories >= 600 THEN 'alta'\n",
    "  WHEN calories >= 300 THEN 'moderada'\n",
    "  ELSE 'leve'\n",
    "END AS intensidade_calorica,\n",
    "CASE \n",
    "  WHEN (hour(tempo_real) * 60 + minute(tempo_real)) >= 60 THEN 'longa'\n",
    "  WHEN (hour(tempo_real) * 60 + minute(tempo_real)) >= 30 THEN 'média'\n",
    "  ELSE 'curta'\n",
    "END AS duracao_tipo,\n",
    "\n",
    "date_format(to_timestamp(start_date_local), 'MMM/yyyy') AS mes_ref\n",
    "\n",
    "from uc_athlete_data.silver.strava_activities a\n",
    "join uc_athlete_data.silver.sub_activity_final b\n",
    "  on a.id = b.id\n",
    "where start_date >= '2024-12-01'"
   ]
  },
  {
   "cell_type": "code",
   "execution_count": 0,
   "metadata": {
    "application/vnd.databricks.v1+cell": {
     "cellMetadata": {
      "byteLimit": 2048000,
      "rowLimit": 10000
     },
     "inputWidgets": {},
     "nuid": "0e443fb9-a1f0-4395-b664-909b30596a85",
     "showTitle": false,
     "tableResultSettingsMap": {},
     "title": ""
    }
   },
   "outputs": [],
   "source": [
    "_sqldf.createOrReplaceTempView(\"dados\")"
   ]
  },
  {
   "cell_type": "code",
   "execution_count": 0,
   "metadata": {
    "application/vnd.databricks.v1+cell": {
     "cellMetadata": {
      "byteLimit": 2048000,
      "implicitDf": true,
      "rowLimit": 10000
     },
     "inputWidgets": {},
     "nuid": "5942a9f3-a85d-49bb-bb19-4a43a75ad2c9",
     "showTitle": false,
     "tableResultSettingsMap": {
      "0": {
       "dataGridStateBlob": "{\"version\":1,\"tableState\":{\"columnPinning\":{\"left\":[\"#row_number#\"],\"right\":[]},\"columnSizing\":{},\"columnVisibility\":{}},\"settings\":{\"columns\":{}},\"syncTimestamp\":1752062317220}",
       "filterBlob": null,
       "queryPlanFiltersBlob": null,
       "tableResultIndex": 0
      }
     },
     "title": ""
    }
   },
   "outputs": [],
   "source": [
    "%sql\n",
    "select count(*),sport_type, start_date\n",
    "from dados\n",
    "group by sport_type, start_date\n",
    "having count(*) > 1\n"
   ]
  },
  {
   "cell_type": "code",
   "execution_count": 0,
   "metadata": {
    "application/vnd.databricks.v1+cell": {
     "cellMetadata": {},
     "inputWidgets": {},
     "nuid": "0533a990-74ad-4aa6-b8db-b0d3c3fa8b09",
     "showTitle": false,
     "tableResultSettingsMap": {},
     "title": ""
    }
   },
   "outputs": [],
   "source": [
    "from pyspark.sql.window import Window\n",
    "from pyspark.sql.functions import row_number, col\n",
    "\n",
    "# Definindo a window\n",
    "window_spec = Window.partitionBy(\"athlete_id\",\"id\",\"start_date\").orderBy(col(\"ingestion_timestamp\").desc())\n",
    "\n",
    "# Aplicando row_number\n",
    "df_ranked = df_bronze.withColumn(\"row_num\", row_number().over(window_spec))\n",
    "\n",
    "# Mantendo apenas a 1ª linha de cada grupo\n",
    "df_deduplicated = df_ranked.filter(col(\"row_num\") == 1).drop(\"row_num\")\n"
   ]
  }
 ],
 "metadata": {
  "application/vnd.databricks.v1+notebook": {
   "computePreferences": null,
   "dashboards": [],
   "environmentMetadata": {
    "base_environment": "",
    "environment_version": "2"
   },
   "inputWidgetPreferences": null,
   "language": "python",
   "notebookMetadata": {
    "mostRecentlyExecutedCommandWithImplicitDF": {
     "commandId": 7479834145204174,
     "dataframes": [
      "_sqldf"
     ]
    },
    "pythonIndentUnit": 4
   },
   "notebookName": "Analise GPT",
   "widgets": {}
  },
  "language_info": {
   "name": "python"
  }
 },
 "nbformat": 4,
 "nbformat_minor": 0
}
