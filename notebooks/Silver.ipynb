{
 "cells": [
  {
   "cell_type": "code",
   "execution_count": 0,
   "metadata": {
    "application/vnd.databricks.v1+cell": {
     "cellMetadata": {
      "byteLimit": 2048000,
      "implicitDf": true,
      "rowLimit": 10000
     },
     "inputWidgets": {},
     "nuid": "779b0383-5592-4cbd-9830-18b9d6d07180",
     "showTitle": false,
     "tableResultSettingsMap": {},
     "title": ""
    }
   },
   "outputs": [],
   "source": [
    "%sql\n",
    "DROP TABLE IF EXISTS uc_athlete_data.silver.strava_activities;\n"
   ]
  },
  {
   "cell_type": "code",
   "execution_count": 0,
   "metadata": {
    "application/vnd.databricks.v1+cell": {
     "cellMetadata": {
      "byteLimit": 2048000,
      "rowLimit": 10000
     },
     "inputWidgets": {},
     "nuid": "75db7f75-0c23-469c-80ea-e208b53cbb6f",
     "showTitle": false,
     "tableResultSettingsMap": {},
     "title": ""
    }
   },
   "outputs": [],
   "source": [
    "#dbutils.fs.rm(\"abfss://silver@adlsathlete.dfs.core.windows.net/strava/activities/strava_activities/\", recurse=True)\n",
    "#dbutils.fs.rm(\"abfss://silver@adlsathlete.dfs.core.windows.net/\", recurse=True)"
   ]
  },
  {
   "cell_type": "code",
   "execution_count": 0,
   "metadata": {
    "application/vnd.databricks.v1+cell": {
     "cellMetadata": {
      "byteLimit": 2048000,
      "rowLimit": 10000
     },
     "inputWidgets": {},
     "nuid": "2fc29ac7-b74c-4f70-99be-f46d8191c6b1",
     "showTitle": false,
     "tableResultSettingsMap": {},
     "title": ""
    }
   },
   "outputs": [],
   "source": [
    "# 📥 1. Leitura da tabela da Bronze\n",
    "df_bronze = spark.table(\"uc_athlete_data.bronze.strava_activities\").filter(\"athlete_id IS NOT NULL\")"
   ]
  },
  {
   "cell_type": "code",
   "execution_count": 0,
   "metadata": {
    "application/vnd.databricks.v1+cell": {
     "cellMetadata": {
      "byteLimit": 2048000,
      "rowLimit": 10000
     },
     "inputWidgets": {},
     "nuid": "e1192d1b-d558-4191-a639-7ad63f5e255f",
     "showTitle": false,
     "tableResultSettingsMap": {},
     "title": ""
    }
   },
   "outputs": [],
   "source": [
    "# Filtrar registros com athlete_id nulo\n",
    "df_errors = spark.read.table(\"uc_athlete_data.bronze.strava_activities\").filter(\"athlete_id IS NULL\")\n",
    "\n",
    "# Salvar em nova tabela de erros (sobrescrevendo ou adicionando, conforme o caso)\n",
    "df_errors.write.format(\"delta\") \\\n",
    "    .mode(\"append\") \\\n",
    "    .saveAsTable(\"uc_athlete_data.bronze.strava_activities_errors\")\n"
   ]
  },
  {
   "cell_type": "code",
   "execution_count": 0,
   "metadata": {
    "application/vnd.databricks.v1+cell": {
     "cellMetadata": {
      "byteLimit": 2048000,
      "rowLimit": 10000
     },
     "inputWidgets": {},
     "nuid": "52f7ad84-c3ac-44fb-9251-17927e044f69",
     "showTitle": false,
     "tableResultSettingsMap": {},
     "title": ""
    }
   },
   "outputs": [],
   "source": [
    "display(df_bronze)"
   ]
  },
  {
   "cell_type": "code",
   "execution_count": 0,
   "metadata": {
    "application/vnd.databricks.v1+cell": {
     "cellMetadata": {
      "byteLimit": 2048000,
      "implicitDf": true,
      "rowLimit": 10000
     },
     "inputWidgets": {},
     "nuid": "767ccb7c-7689-4296-b052-bcfc56564a93",
     "showTitle": false,
     "tableResultSettingsMap": {},
     "title": ""
    }
   },
   "outputs": [],
   "source": [
    "%sql\n",
    "select * from uc_athlete_data.bronze.strava_activities_errors"
   ]
  },
  {
   "cell_type": "code",
   "execution_count": 0,
   "metadata": {
    "application/vnd.databricks.v1+cell": {
     "cellMetadata": {
      "byteLimit": 2048000,
      "rowLimit": 10000
     },
     "inputWidgets": {},
     "nuid": "931d1907-1421-4812-83a5-8721389118fa",
     "showTitle": false,
     "tableResultSettingsMap": {},
     "title": ""
    }
   },
   "outputs": [],
   "source": [
    "from pyspark.sql.window import Window\n",
    "from pyspark.sql.functions import row_number, col\n",
    "\n",
    "# Definindo a window\n",
    "window_spec = Window.partitionBy(\"athlete_id\",\"id\",\"start_date\").orderBy(col(\"ingestion_timestamp\").desc())\n",
    "\n",
    "# Aplicando row_number\n",
    "df_ranked = df_bronze.withColumn(\"row_num\", row_number().over(window_spec))\n",
    "\n",
    "# Mantendo apenas a 1ª linha de cada grupo\n",
    "df_deduplicated = df_ranked.filter(col(\"row_num\") == 1).drop(\"row_num\")\n"
   ]
  },
  {
   "cell_type": "code",
   "execution_count": 0,
   "metadata": {
    "application/vnd.databricks.v1+cell": {
     "cellMetadata": {
      "byteLimit": 2048000,
      "implicitDf": true,
      "rowLimit": 10000
     },
     "inputWidgets": {},
     "nuid": "a202fa3c-10ad-42f5-a3d0-b68be748263b",
     "showTitle": false,
     "tableResultSettingsMap": {},
     "title": ""
    }
   },
   "outputs": [],
   "source": [
    "# 🧼 2. Transformações e limpeza\n",
    "from pyspark.sql.functions import col, from_unixtime, round, date_format\n",
    "from pyspark.sql.functions import to_timestamp\n",
    "from pyspark.sql.functions import to_date, round, col,when,expr\n",
    "from pyspark.sql.functions import col, round, to_timestamp, to_date, when, date_format\n",
    "from pyspark.sql.functions import floor, round, format_string, col\n",
    "from pyspark.sql.functions import input_file_name, regexp_extract\n",
    "\n",
    "df_silver = (\n",
    "    df_deduplicated\n",
    "    .withColumn(\"start_date\", to_timestamp(\"start_date\", \"yyyy-MM-dd'T'HH:mm:ss'Z'\"))\n",
    "    .withColumn(\"start_date\", to_date(\"start_date\"))\n",
    "    .withColumn(\"distance_km\", round(col(\"distance\") / 1000, 2))\n",
    "    .withColumn(\"average_speed_kmh\", round(col(\"average_speed\") * 3.6, 2))\n",
    "    .withColumn(\"pace_min_km\", when(col(\"type\") == \"Run\", round((col(\"elapsed_time\") / 60) / (col(\"distance\") / 1000), 2)).otherwise(0))\n",
    "    .withColumn(\"pace_min_km_moving_time\", when(col(\"type\") == \"Run\", round((col(\"moving_time\") / 60) / (col(\"distance\") / 1000), 2)).otherwise(0))\n",
    "    .withColumn(\"tempo_real\", expr(\"format_string('%02d:%02d:%02d', int(moving_time/3600), int((moving_time%3600)/60), int(moving_time%60))\"))\n",
    "    .withColumn(\n",
    "        \"pace_min_km_new\",\n",
    "        when(\n",
    "            col(\"distance\") > 0,\n",
    "            round((col(\"moving_time\") / 60) / (col(\"distance\") / 1000), 3)\n",
    "        ).otherwise(None)\n",
    "    )\n",
    "    .withColumn(\n",
    "    \"pace_strava\",\n",
    "    format_string(\n",
    "        \"%d:%02d\",\n",
    "        floor(col(\"pace_min_km_new\")),\n",
    "        round((col(\"pace_min_km_new\") - floor(col(\"pace_min_km_new\"))) * 60, 0).cast(\"int\")\n",
    "        )\n",
    "    )\n",
    "    .withColumn(\"dia_semana\", date_format(\"start_date\", 'E'))\n",
    "    .drop(\"resource_state\", \"map\", \"gear_id\", \"external_id\", \"upload_id\")\n",
    "    #.withColumn(\"file_path\", _metadata.file_path)\n",
    "    .select(\n",
    "        \"achievement_count\",\n",
    "        \"athlete_count\",\n",
    "        \"average_cadence\",\n",
    "        \"average_heartrate\",\n",
    "        \"elev_high\",\n",
    "        \"elev_low\",\n",
    "        \"flagged\",\n",
    "        \"has_heartrate\",\n",
    "        \"id\",\n",
    "        \"location_city\",\n",
    "        \"location_country\",\n",
    "        \"location_state\",\n",
    "        \"manual\",\n",
    "        \"max_heartrate\",\n",
    "        \"max_speed\",\n",
    "        \"moving_time\",\n",
    "        \"name\",\n",
    "        \"pr_count\",\n",
    "        \"sport_type\",\n",
    "        \"start_date\",\n",
    "        \"start_date_local\",\n",
    "        \"timezone\",\n",
    "        \"total_elevation_gain\",\n",
    "        \"type\",\n",
    "        \"workout_type\",\n",
    "        \"athlete_id\",\n",
    "        \"ingestion_timestamp\",\n",
    "        \"elapsed_time\",\n",
    "        \"distance_km\",\n",
    "        \"average_speed_kmh\",\n",
    "        \"tempo_real\",\n",
    "        \"pace_min_km_moving_time\",\n",
    "        \"pace_min_km\",\n",
    "        \"pace_min_km_new\",\n",
    "        \"pace_strava\",\n",
    "        \"dia_semana\"\n",
    "    )\n",
    ")\n",
    "\n",
    "\n",
    "''' df_silver = df_silver \\\n",
    "    .withColumnRenamed(\"distance_km\", \"distancia_km\") \\\n",
    "    .withColumnRenamed(\"average_speed_kmh\", \"velocidade_media_kmh\") \\\n",
    "    .withColumnRenamed(\"max_speed_kmh\", \"velocidade_maxima_kmh\") \\\n",
    "    .withColumnRenamed(\"pace_min_km\", \"ritmo_min_por_km\") \\\n",
    "    .withColumnRenamed(\"gain_per_km\", \"altimetria_por_km\") \\\n",
    "    .withColumnRenamed(\"duration_diff\", \"tempo_parado_segundos\") \\\n",
    "    .withColumnRenamed(\"duration_min\", \"duracao_minutos\") \\\n",
    "    .withColumnRenamed(\"start_date\", \"data_inicio\") \\\n",
    "    .withColumnRenamed(\"start_date_only\", \"data_inicio_dia\") \\\n",
    "    .withColumnRenamed(\"upload_day_of_week\", \"dia_da_semana\") \\\n",
    "    .withColumnRenamed(\"upload_hour\", \"hora_do_dia\") \\\n",
    "    .withColumnRenamed(\"has_gps\", \"possui_gps\") \\\n",
    "    .withColumnRenamed(\"is_morning\", \"foi_pela_manha\") \\\n",
    "    .withColumnRenamed(\"start_lat\", \"latitude_inicio\") \\\n",
    "    .withColumnRenamed(\"start_lng\", \"longitude_inicio\") \\\n",
    "    .withColumnRenamed(\"end_lat\", \"latitude_fim\") \\\n",
    "    .withColumnRenamed(\"end_lng\", \"longitude_fim\")'''\n",
    "\n",
    "display(df_silver)\n",
    "# 📤 3. Escrita na Silver como Delta\n",
    "output_path = \"abfss://silver@adlsathlete.dfs.core.windows.net/strava/activities/strava_activities/\"\n",
    "\n",
    "df_silver.write.format(\"delta\").mode(\"overwrite\").option(\"overwriteSchema\", \"true\").save(output_path)\n"
   ]
  },
  {
   "cell_type": "code",
   "execution_count": 0,
   "metadata": {
    "application/vnd.databricks.v1+cell": {
     "cellMetadata": {
      "byteLimit": 2048000,
      "implicitDf": true,
      "rowLimit": 10000
     },
     "inputWidgets": {},
     "nuid": "7b84b7db-617a-4baf-8f06-5180b8d3e4b6",
     "showTitle": false,
     "tableResultSettingsMap": {},
     "title": ""
    }
   },
   "outputs": [],
   "source": [
    "%sql\n",
    "CREATE TABLE IF NOT EXISTS uc_athlete_data.silver.strava_activities\n",
    "USING DELTA\n",
    "LOCATION 'abfss://silver@adlsathlete.dfs.core.windows.net/strava/activities/strava_activities/';\n"
   ]
  },
  {
   "cell_type": "code",
   "execution_count": 0,
   "metadata": {
    "application/vnd.databricks.v1+cell": {
     "cellMetadata": {
      "byteLimit": 2048000,
      "implicitDf": true,
      "rowLimit": 10000
     },
     "inputWidgets": {},
     "nuid": "dec7bcd0-1ee5-4704-9f92-deb3f3460d71",
     "showTitle": false,
     "tableResultSettingsMap": {},
     "title": ""
    }
   },
   "outputs": [],
   "source": [
    "%sql\n",
    "select type, count(*) from uc_athlete_data.silver.strava_activities\n",
    "group by 1"
   ]
  },
  {
   "cell_type": "code",
   "execution_count": 0,
   "metadata": {
    "application/vnd.databricks.v1+cell": {
     "cellMetadata": {
      "byteLimit": 2048000,
      "implicitDf": true,
      "rowLimit": 10000
     },
     "inputWidgets": {},
     "nuid": "2b08b0a2-46a0-4df2-b2b9-e2a318027914",
     "showTitle": false,
     "tableResultSettingsMap": {},
     "title": ""
    }
   },
   "outputs": [],
   "source": [
    "%sql\n",
    "select * from uc_athlete_data.silver.strava_activities\n",
    "where type = 'Run'\n",
    "and  ( name in ('Prova 10KM em Rotterdam -Holanda 🚀','Fluido no flow! Gostosinho') \n",
    "or start_date = '2025-05-18')\n",
    "order by start_date_local desc"
   ]
  },
  {
   "cell_type": "code",
   "execution_count": 0,
   "metadata": {
    "application/vnd.databricks.v1+cell": {
     "cellMetadata": {
      "byteLimit": 2048000,
      "implicitDf": true,
      "rowLimit": 10000
     },
     "inputWidgets": {},
     "nuid": "9c9d12a0-1290-4455-a33b-65a1044d0f1c",
     "showTitle": false,
     "tableResultSettingsMap": {},
     "title": ""
    }
   },
   "outputs": [],
   "source": [
    "%sql\n",
    "select count(id), count(distinct id) from uc_athlete_data.silver.strava_activities"
   ]
  },
  {
   "cell_type": "markdown",
   "metadata": {
    "application/vnd.databricks.v1+cell": {
     "cellMetadata": {},
     "inputWidgets": {},
     "nuid": "5ea36b32-1fe6-49cb-b615-2e55738078eb",
     "showTitle": false,
     "tableResultSettingsMap": {},
     "title": ""
    }
   },
   "source": []
  }
 ],
 "metadata": {
  "application/vnd.databricks.v1+notebook": {
   "computePreferences": null,
   "dashboards": [],
   "environmentMetadata": {
    "base_environment": "",
    "environment_version": "2"
   },
   "inputWidgetPreferences": null,
   "language": "python",
   "notebookMetadata": {
    "mostRecentlyExecutedCommandWithImplicitDF": {
     "commandId": 5847632613058854,
     "dataframes": [
      "_sqldf"
     ]
    },
    "pythonIndentUnit": 4
   },
   "notebookName": "Silver",
   "widgets": {}
  },
  "language_info": {
   "name": "python"
  }
 },
 "nbformat": 4,
 "nbformat_minor": 0
}
