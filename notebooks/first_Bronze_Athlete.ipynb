{
 "cells": [
  {
   "cell_type": "code",
   "execution_count": 0,
   "metadata": {
    "application/vnd.databricks.v1+cell": {
     "cellMetadata": {
      "byteLimit": 2048000,
      "rowLimit": 10000
     },
     "inputWidgets": {},
     "nuid": "5986be8b-9e59-48d1-a440-bf7a25d97b91",
     "showTitle": false,
     "tableResultSettingsMap": {},
     "title": ""
    }
   },
   "outputs": [],
   "source": [
    "from pyspark.sql.functions import current_timestamp\n",
    "from pyspark.sql.functions import col"
   ]
  },
  {
   "cell_type": "code",
   "execution_count": 0,
   "metadata": {
    "application/vnd.databricks.v1+cell": {
     "cellMetadata": {
      "byteLimit": 2048000,
      "implicitDf": true,
      "rowLimit": 10000
     },
     "inputWidgets": {},
     "nuid": "477f702c-c2e9-4bb9-8ea0-9d2ae84022ec",
     "showTitle": false,
     "tableResultSettingsMap": {},
     "title": ""
    }
   },
   "outputs": [],
   "source": [
    "%sql\n",
    "CREATE TABLE IF NOT EXISTS `uc_athlete_data`.bronze.strava_athlete\n",
    "USING DELTA \n",
    "COMMENT \"Tabela com atividades dos atletas no Strava\"\n",
    "LOCATION 'abfss://bronze@adlsathlete.dfs.core.windows.net/strava/athlete/'"
   ]
  },
  {
   "cell_type": "code",
   "execution_count": 0,
   "metadata": {
    "application/vnd.databricks.v1+cell": {
     "cellMetadata": {
      "byteLimit": 2048000,
      "implicitDf": true,
      "rowLimit": 10000
     },
     "inputWidgets": {},
     "nuid": "3f3027d4-8421-46c3-8b7f-c5abcbeed8bf",
     "showTitle": false,
     "tableResultSettingsMap": {},
     "title": ""
    }
   },
   "outputs": [],
   "source": [
    "%sql\n",
    "select * from `uc_athlete_data`.bronze.strava_athlete"
   ]
  },
  {
   "cell_type": "code",
   "execution_count": 0,
   "metadata": {
    "application/vnd.databricks.v1+cell": {
     "cellMetadata": {
      "byteLimit": 2048000,
      "rowLimit": 10000
     },
     "inputWidgets": {},
     "nuid": "f5e5d89b-cc61-4255-b601-109e0f62d214",
     "showTitle": false,
     "tableResultSettingsMap": {},
     "title": ""
    }
   },
   "outputs": [],
   "source": [
    "bronze = BronzeLoader(\n",
    "    input_path=\"abfss://raw@adlsathlete.dfs.core.windows.net/strava/sub_activity/\",\n",
    "    checkpoint_path=\"abfss://bronze@adlsathlete.dfs.core.windows.net/strava/sub_activity/checkpoints/\",\n",
    "    format_file=\"json\"\n",
    "    \n",
    ")\n",
    "\n",
    "df = bronze.read_autoloader()\n",
    "df = bronze.standardize_columns(df)\n",
    "df.display()\n",
    "bronze.write_to_bronze(\n",
    "    df,\n",
    "    output_path=\"abfss://bronze@adlsathlete.dfs.core.windows.net/strava/sub_activity/\"\n",
    ")\n"
   ]
  }
 ],
 "metadata": {
  "application/vnd.databricks.v1+notebook": {
   "computePreferences": null,
   "dashboards": [],
   "environmentMetadata": {
    "base_environment": "",
    "environment_version": "2"
   },
   "inputWidgetPreferences": null,
   "language": "python",
   "notebookMetadata": {
    "mostRecentlyExecutedCommandWithImplicitDF": {
     "commandId": 2446920301526336,
     "dataframes": [
      "_sqldf"
     ]
    },
    "pythonIndentUnit": 4
   },
   "notebookName": "first_Bronze_Athlete",
   "widgets": {}
  },
  "language_info": {
   "name": "python"
  }
 },
 "nbformat": 4,
 "nbformat_minor": 0
}
